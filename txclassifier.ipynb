{
 "cells": [
  {
   "cell_type": "code",
   "execution_count": 12,
   "metadata": {},
   "outputs": [],
   "source": [
    "import json\n",
    "import cx_Oracle\n",
    "import os"
   ]
  },
  {
   "cell_type": "code",
   "execution_count": 13,
   "metadata": {},
   "outputs": [],
   "source": [
    "user = 'HLF'\n",
    "passwd = 'HLF'\n",
    "url = 'localhost/xe'\n",
    "pool = cx_Oracle.SessionPool(user, passwd, url)"
   ]
  },
  {
   "cell_type": "code",
   "execution_count": 14,
   "metadata": {},
   "outputs": [],
   "source": [
    "query = \"\"\"\n",
    "select * \n",
    "from hlf.bc_valid_tx_write_set \n",
    "where block = :b\n",
    "order by txseq, item\"\"\""
   ]
  },
  {
   "cell_type": "code",
   "execution_count": 15,
   "metadata": {},
   "outputs": [],
   "source": [
    "block = 53319\n",
    "cnx = pool.acquire()\n",
    "cur = cnx.cursor()\n",
    "res = cur.execute(query, b=block).fetchall()"
   ]
  },
  {
   "cell_type": "code",
   "execution_count": 51,
   "metadata": {},
   "outputs": [],
   "source": [
    "df = pd.DataFrame(res, columns=['block', 'txseq', 'item', 'key', 'valie', 'isdelete']) \n",
    "df.drop('block', axis=1, inplace=True)"
   ]
  },
  {
   "cell_type": "code",
   "execution_count": 52,
   "metadata": {},
   "outputs": [],
   "source": [
    "new = df[\"key\"].str.split(\"#\", n=1, expand=True)\n",
    "personaid = new[0].str.split(\":\", n=1, expand=True)\n",
    "component = new[1].str.split(\":\", n=1, expand=True)\n",
    "df[\"personaid\"] = personaid[1]\n",
    "df[\"componentid\"] = component[0]\n",
    "df[\"componentval\"] = component[1]\n",
    "dfg = df.groupby(['txseq', 'personaid'])"
   ]
  },
  {
   "cell_type": "code",
   "execution_count": 94,
   "metadata": {},
   "outputs": [],
   "source": [
    "tup12 = list(dfg)[12][1]"
   ]
  },
  {
   "cell_type": "code",
   "execution_count": 99,
   "metadata": {},
   "outputs": [],
   "source": [
    "g12 = tup12.groupby(['componentid'])"
   ]
  },
  {
   "cell_type": "code",
   "execution_count": 103,
   "metadata": {},
   "outputs": [
    {
     "data": {
      "text/plain": [
       "[('act',      txseq  item                                   key  \\\n",
       "  144     12     0  per:30662472308#act:900.900-949100.2   \n",
       "  \n",
       "                                                   valie isdelete    personaid  \\\n",
       "  144  {\"org\":900,\"actividad\":\"900-949100\",\"orden\":1,...     None  30662472308   \n",
       "  \n",
       "      componentid      componentval  \n",
       "  144         act  900.900-949100.2  ),\n",
       " ('cms',      txseq  item                    key  \\\n",
       "  145     12     1  per:30662472308#cms:1   \n",
       "  \n",
       "                                                   valie isdelete    personaid  \\\n",
       "  145  {\"provincia\":1,\"desde\":\"2002-01-01\",\"ds\":\"2019...     None  30662472308   \n",
       "  \n",
       "      componentid componentval  \n",
       "  145         cms            1  ),\n",
       " ('dom',      txseq  item                          key  \\\n",
       "  146     12     2    per:30662472308#dom:1.1.1   \n",
       "  147     12     3    per:30662472308#dom:1.2.1   \n",
       "  148     12     4  per:30662472308#dom:900.3.1   \n",
       "  149     12     5  per:30662472308#dom:900.3.2   \n",
       "  150     12     6  per:30662472308#dom:900.3.3   \n",
       "  \n",
       "                                                   valie isdelete    personaid  \\\n",
       "  146  {\"orden\":1,\"org\":1,\"tipo\":1,\"estado\":6,\"calle\"...     None  30662472308   \n",
       "  147  {\"orden\":1,\"org\":1,\"tipo\":2,\"estado\":6,\"calle\"...     None  30662472308   \n",
       "  148  {\"orden\":1,\"org\":900,\"tipo\":3,\"estado\":6,\"call...     None  30662472308   \n",
       "  149  {\"orden\":2,\"org\":900,\"tipo\":3,\"estado\":6,\"call...     None  30662472308   \n",
       "  150  {\"orden\":3,\"org\":900,\"tipo\":3,\"estado\":6,\"call...     None  30662472308   \n",
       "  \n",
       "      componentid componentval  \n",
       "  146         dom        1.1.1  \n",
       "  147         dom        1.2.1  \n",
       "  148         dom      900.3.1  \n",
       "  149         dom      900.3.2  \n",
       "  150         dom      900.3.3  ),\n",
       " ('dor',      txseq  item                            key  \\\n",
       "  151     12     7  per:30662472308#dor:900.3.1.1   \n",
       "  152     12     8  per:30662472308#dor:900.3.2.3   \n",
       "  153     12     9  per:30662472308#dor:900.3.3.2   \n",
       "  \n",
       "                                                   valie isdelete    personaid  \\\n",
       "  151  {\"orden\":1,\"org\":900,\"tipo\":3,\"rol\":1,\"ds\":\"20...     None  30662472308   \n",
       "  152  {\"orden\":2,\"org\":900,\"tipo\":3,\"rol\":3,\"ds\":\"20...     None  30662472308   \n",
       "  153  {\"orden\":3,\"org\":900,\"tipo\":3,\"rol\":2,\"ds\":\"20...     None  30662472308   \n",
       "  \n",
       "      componentid componentval  \n",
       "  151         dor    900.3.1.1  \n",
       "  152         dor    900.3.2.3  \n",
       "  153         dor    900.3.3.2  ),\n",
       " ('imp',      txseq  item                     key  \\\n",
       "  154     12    10  per:30662472308#imp:10   \n",
       "  155     12    11  per:30662472308#imp:32   \n",
       "  \n",
       "                                                   valie isdelete    personaid  \\\n",
       "  154  {\"impuesto\":10,\"inscripcion\":\"1964-01-01\",\"est...     None  30662472308   \n",
       "  155  {\"impuesto\":32,\"inscripcion\":\"2000-01-24\",\"est...     None  30662472308   \n",
       "  \n",
       "      componentid componentval  \n",
       "  154         imp           10  \n",
       "  155         imp           32  ),\n",
       " ('jur',      txseq  item                         key  \\\n",
       "  156     12    12   per:30662472308#jur:900.1   \n",
       "  157     12    13  per:30662472308#jur:900.11   \n",
       "  158     12    14  per:30662472308#jur:900.12   \n",
       "  159     12    15  per:30662472308#jur:900.16   \n",
       "  160     12    16  per:30662472308#jur:900.18   \n",
       "  161     12    17  per:30662472308#jur:900.19   \n",
       "  162     12    18  per:30662472308#jur:900.20   \n",
       "  163     12    19  per:30662472308#jur:900.22   \n",
       "  164     12    20   per:30662472308#jur:900.3   \n",
       "  165     12    21   per:30662472308#jur:900.4   \n",
       "  166     12    22   per:30662472308#jur:900.5   \n",
       "  167     12    23   per:30662472308#jur:900.6   \n",
       "  168     12    24   per:30662472308#jur:900.7   \n",
       "  \n",
       "                                                   valie isdelete    personaid  \\\n",
       "  156  {\"provincia\":1,\"desde\":\"2002-01-01\",\"org\":900,...     None  30662472308   \n",
       "  157  {\"provincia\":11,\"desde\":\"2002-01-01\",\"org\":900...     None  30662472308   \n",
       "  158  {\"provincia\":12,\"desde\":\"2002-01-01\",\"org\":900...     None  30662472308   \n",
       "  159  {\"provincia\":16,\"desde\":\"2010-01-01\",\"org\":900...     None  30662472308   \n",
       "  160  {\"provincia\":18,\"desde\":\"2002-01-01\",\"org\":900...     None  30662472308   \n",
       "  161  {\"provincia\":19,\"desde\":\"2002-01-01\",\"org\":900...     None  30662472308   \n",
       "  162  {\"provincia\":20,\"desde\":\"2002-01-01\",\"org\":900...     None  30662472308   \n",
       "  163  {\"provincia\":22,\"desde\":\"2002-01-01\",\"org\":900...     None  30662472308   \n",
       "  164  {\"provincia\":3,\"desde\":\"2002-01-01\",\"org\":900,...     None  30662472308   \n",
       "  165  {\"provincia\":4,\"desde\":\"2002-01-01\",\"org\":900,...     None  30662472308   \n",
       "  166  {\"provincia\":5,\"desde\":\"2002-01-01\",\"org\":900,...     None  30662472308   \n",
       "  167  {\"provincia\":6,\"desde\":\"2002-01-01\",\"org\":900,...     None  30662472308   \n",
       "  168  {\"provincia\":7,\"desde\":\"2002-01-01\",\"org\":900,...     None  30662472308   \n",
       "  \n",
       "      componentid componentval  \n",
       "  156         jur        900.1  \n",
       "  157         jur       900.11  \n",
       "  158         jur       900.12  \n",
       "  159         jur       900.16  \n",
       "  160         jur       900.18  \n",
       "  161         jur       900.19  \n",
       "  162         jur       900.20  \n",
       "  163         jur       900.22  \n",
       "  164         jur        900.3  \n",
       "  165         jur        900.4  \n",
       "  166         jur        900.5  \n",
       "  167         jur        900.6  \n",
       "  168         jur        900.7  ),\n",
       " ('per',      txseq  item                  key  \\\n",
       "  169     12    25  per:30662472308#per   \n",
       "  \n",
       "                                                   valie isdelete    personaid  \\\n",
       "  169  {\"tipo\":\"J\",\"id\":30662472308,\"tipoid\":\"C\",\"est...     None  30662472308   \n",
       "  \n",
       "      componentid componentval  \n",
       "  169         per         None  ),\n",
       " ('rel',      txseq  item                                  key  \\\n",
       "  170     12    26  per:30662472308#rel:20083309424.3.1   \n",
       "  \n",
       "                                                   valie isdelete    personaid  \\\n",
       "  170  {\"persona\":20083309424,\"tipo\":3,\"subtipo\":1,\"d...     None  30662472308   \n",
       "  \n",
       "      componentid     componentval  \n",
       "  170         rel  20083309424.3.1  ),\n",
       " ('wit',\n",
       "       txseq  item                  key valie isdelete    personaid componentid  \\\n",
       "  171     12    27  per:30662472308#wit     1     None  30662472308         wit   \n",
       "  \n",
       "      componentval  \n",
       "  171         None  )]"
      ]
     },
     "execution_count": 103,
     "metadata": {},
     "output_type": "execute_result"
    }
   ],
   "source": [
    "list(g12)"
   ]
  },
  {
   "cell_type": "code",
   "execution_count": 107,
   "metadata": {},
   "outputs": [
    {
     "ename": "KeyError",
     "evalue": "'jxr'",
     "output_type": "error",
     "traceback": [
      "\u001b[0;31m---------------------------------------------------------------------------\u001b[0m",
      "\u001b[0;31mKeyError\u001b[0m                                  Traceback (most recent call last)",
      "\u001b[0;32m<ipython-input-107-1affc7ffbf20>\u001b[0m in \u001b[0;36m<module>\u001b[0;34m\u001b[0m\n\u001b[0;32m----> 1\u001b[0;31m \u001b[0mg12\u001b[0m\u001b[0;34m.\u001b[0m\u001b[0mget_group\u001b[0m\u001b[0;34m(\u001b[0m\u001b[0;34m'jxr'\u001b[0m\u001b[0;34m)\u001b[0m\u001b[0;34m\u001b[0m\u001b[0;34m\u001b[0m\u001b[0m\n\u001b[0m",
      "\u001b[0;32m~/anaconda3/lib/python3.7/site-packages/pandas/core/groupby/groupby.py\u001b[0m in \u001b[0;36mget_group\u001b[0;34m(self, name, obj)\u001b[0m\n\u001b[1;32m    646\u001b[0m         \u001b[0minds\u001b[0m \u001b[0;34m=\u001b[0m \u001b[0mself\u001b[0m\u001b[0;34m.\u001b[0m\u001b[0m_get_index\u001b[0m\u001b[0;34m(\u001b[0m\u001b[0mname\u001b[0m\u001b[0;34m)\u001b[0m\u001b[0;34m\u001b[0m\u001b[0;34m\u001b[0m\u001b[0m\n\u001b[1;32m    647\u001b[0m         \u001b[0;32mif\u001b[0m \u001b[0;32mnot\u001b[0m \u001b[0mlen\u001b[0m\u001b[0;34m(\u001b[0m\u001b[0minds\u001b[0m\u001b[0;34m)\u001b[0m\u001b[0;34m:\u001b[0m\u001b[0;34m\u001b[0m\u001b[0;34m\u001b[0m\u001b[0m\n\u001b[0;32m--> 648\u001b[0;31m             \u001b[0;32mraise\u001b[0m \u001b[0mKeyError\u001b[0m\u001b[0;34m(\u001b[0m\u001b[0mname\u001b[0m\u001b[0;34m)\u001b[0m\u001b[0;34m\u001b[0m\u001b[0;34m\u001b[0m\u001b[0m\n\u001b[0m\u001b[1;32m    649\u001b[0m \u001b[0;34m\u001b[0m\u001b[0m\n\u001b[1;32m    650\u001b[0m         \u001b[0;32mreturn\u001b[0m \u001b[0mobj\u001b[0m\u001b[0;34m.\u001b[0m\u001b[0m_take\u001b[0m\u001b[0;34m(\u001b[0m\u001b[0minds\u001b[0m\u001b[0;34m,\u001b[0m \u001b[0maxis\u001b[0m\u001b[0;34m=\u001b[0m\u001b[0mself\u001b[0m\u001b[0;34m.\u001b[0m\u001b[0maxis\u001b[0m\u001b[0;34m)\u001b[0m\u001b[0;34m\u001b[0m\u001b[0;34m\u001b[0m\u001b[0m\n",
      "\u001b[0;31mKeyError\u001b[0m: 'jxr'"
     ]
    }
   ],
   "source": [
    "g12.get_group('jxr')"
   ]
  }
 ],
 "metadata": {
  "kernelspec": {
   "display_name": "Python 3",
   "language": "python",
   "name": "python3"
  },
  "language_info": {
   "codemirror_mode": {
    "name": "ipython",
    "version": 3
   },
   "file_extension": ".py",
   "mimetype": "text/x-python",
   "name": "python",
   "nbconvert_exporter": "python",
   "pygments_lexer": "ipython3",
   "version": "3.7.3"
  }
 },
 "nbformat": 4,
 "nbformat_minor": 2
}
