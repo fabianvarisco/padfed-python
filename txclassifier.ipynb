{
 "cells": [
  {
   "cell_type": "code",
   "execution_count": 6,
   "metadata": {},
   "outputs": [],
   "source": [
    "import json\n",
    "import cx_Oracle\n",
    "import os\n",
    "import pandas as pd"
   ]
  },
  {
   "cell_type": "code",
   "execution_count": 2,
   "metadata": {},
   "outputs": [],
   "source": [
    "user = 'HLF'\n",
    "passwd = 'HLF'\n",
    "url = 'localhost/xe'\n",
    "pool = cx_Oracle.SessionPool(user, passwd, url)"
   ]
  },
  {
   "cell_type": "code",
   "execution_count": 3,
   "metadata": {},
   "outputs": [],
   "source": [
    "query = \"\"\"\n",
    "select * \n",
    "from hlf.bc_valid_tx_write_set \n",
    "where block = :b\n",
    "order by txseq, item\"\"\""
   ]
  },
  {
   "cell_type": "code",
   "execution_count": 4,
   "metadata": {},
   "outputs": [],
   "source": [
    "block = 53319\n",
    "cnx = pool.acquire()\n",
    "cur = cnx.cursor()\n",
    "res = cur.execute(query, b=block).fetchall()"
   ]
  },
  {
   "cell_type": "code",
   "execution_count": 7,
   "metadata": {},
   "outputs": [],
   "source": [
    "df = pd.DataFrame(res, columns=['block', 'txseq', 'item', 'key', 'valie', 'isdelete']) \n",
    "df.drop('block', axis=1, inplace=True)"
   ]
  },
  {
   "cell_type": "code",
   "execution_count": 8,
   "metadata": {},
   "outputs": [],
   "source": [
    "new = df[\"key\"].str.split(\"#\", n=1, expand=True)\n",
    "personaid = new[0].str.split(\":\", n=1, expand=True)\n",
    "component = new[1].str.split(\":\", n=1, expand=True)\n",
    "df[\"personaid\"] = personaid[1]\n",
    "df[\"componentid\"] = component[0]\n",
    "df[\"componentval\"] = component[1]\n",
    "dfg = df.groupby(['txseq', 'personaid'])"
   ]
  },
  {
   "cell_type": "code",
   "execution_count": 11,
   "metadata": {},
   "outputs": [
    {
     "data": {
      "text/html": [
       "<div>\n",
       "<style scoped>\n",
       "    .dataframe tbody tr th:only-of-type {\n",
       "        vertical-align: middle;\n",
       "    }\n",
       "\n",
       "    .dataframe tbody tr th {\n",
       "        vertical-align: top;\n",
       "    }\n",
       "\n",
       "    .dataframe thead th {\n",
       "        text-align: right;\n",
       "    }\n",
       "</style>\n",
       "<table border=\"1\" class=\"dataframe\">\n",
       "  <thead>\n",
       "    <tr style=\"text-align: right;\">\n",
       "      <th></th>\n",
       "      <th>txseq</th>\n",
       "      <th>item</th>\n",
       "      <th>key</th>\n",
       "      <th>valie</th>\n",
       "      <th>isdelete</th>\n",
       "      <th>personaid</th>\n",
       "      <th>componentid</th>\n",
       "      <th>componentval</th>\n",
       "    </tr>\n",
       "  </thead>\n",
       "  <tbody>\n",
       "    <tr>\n",
       "      <th>0</th>\n",
       "      <td>0</td>\n",
       "      <td>0</td>\n",
       "      <td>per:30120078328#per</td>\n",
       "      <td>{\"tipo\":\"J\",\"id\":30120078328,\"tipoid\":\"C\",\"est...</td>\n",
       "      <td>None</td>\n",
       "      <td>30120078328</td>\n",
       "      <td>per</td>\n",
       "      <td>None</td>\n",
       "    </tr>\n",
       "    <tr>\n",
       "      <th>1</th>\n",
       "      <td>0</td>\n",
       "      <td>1</td>\n",
       "      <td>per:30120078328#wit</td>\n",
       "      <td>1</td>\n",
       "      <td>None</td>\n",
       "      <td>30120078328</td>\n",
       "      <td>wit</td>\n",
       "      <td>None</td>\n",
       "    </tr>\n",
       "    <tr>\n",
       "      <th>2</th>\n",
       "      <td>1</td>\n",
       "      <td>0</td>\n",
       "      <td>per:30641403268#dom:1.1.1</td>\n",
       "      <td>{\"orden\":1,\"org\":1,\"tipo\":1,\"estado\":2,\"calle\"...</td>\n",
       "      <td>None</td>\n",
       "      <td>30641403268</td>\n",
       "      <td>dom</td>\n",
       "      <td>1.1.1</td>\n",
       "    </tr>\n",
       "    <tr>\n",
       "      <th>3</th>\n",
       "      <td>1</td>\n",
       "      <td>1</td>\n",
       "      <td>per:30641403268#dom:1.2.1</td>\n",
       "      <td>{\"orden\":1,\"org\":1,\"tipo\":2,\"estado\":2,\"calle\"...</td>\n",
       "      <td>None</td>\n",
       "      <td>30641403268</td>\n",
       "      <td>dom</td>\n",
       "      <td>1.2.1</td>\n",
       "    </tr>\n",
       "    <tr>\n",
       "      <th>4</th>\n",
       "      <td>1</td>\n",
       "      <td>2</td>\n",
       "      <td>per:30641403268#per</td>\n",
       "      <td>{\"tipo\":\"J\",\"id\":30641403268,\"tipoid\":\"C\",\"est...</td>\n",
       "      <td>None</td>\n",
       "      <td>30641403268</td>\n",
       "      <td>per</td>\n",
       "      <td>None</td>\n",
       "    </tr>\n",
       "  </tbody>\n",
       "</table>\n",
       "</div>"
      ],
      "text/plain": [
       "   txseq  item                        key  \\\n",
       "0      0     0        per:30120078328#per   \n",
       "1      0     1        per:30120078328#wit   \n",
       "2      1     0  per:30641403268#dom:1.1.1   \n",
       "3      1     1  per:30641403268#dom:1.2.1   \n",
       "4      1     2        per:30641403268#per   \n",
       "\n",
       "                                               valie isdelete    personaid  \\\n",
       "0  {\"tipo\":\"J\",\"id\":30120078328,\"tipoid\":\"C\",\"est...     None  30120078328   \n",
       "1                                                  1     None  30120078328   \n",
       "2  {\"orden\":1,\"org\":1,\"tipo\":1,\"estado\":2,\"calle\"...     None  30641403268   \n",
       "3  {\"orden\":1,\"org\":1,\"tipo\":2,\"estado\":2,\"calle\"...     None  30641403268   \n",
       "4  {\"tipo\":\"J\",\"id\":30641403268,\"tipoid\":\"C\",\"est...     None  30641403268   \n",
       "\n",
       "  componentid componentval  \n",
       "0         per         None  \n",
       "1         wit         None  \n",
       "2         dom        1.1.1  \n",
       "3         dom        1.2.1  \n",
       "4         per         None  "
      ]
     },
     "execution_count": 11,
     "metadata": {},
     "output_type": "execute_result"
    }
   ],
   "source": [
    "df.head()"
   ]
  },
  {
   "cell_type": "code",
   "execution_count": 19,
   "metadata": {},
   "outputs": [
    {
     "data": {
      "text/plain": [
       "'per:30641403268#dom:1.2.1'"
      ]
     },
     "execution_count": 19,
     "metadata": {},
     "output_type": "execute_result"
    }
   ],
   "source": [
    "df.at[3,\"key\"]"
   ]
  },
  {
   "cell_type": "code",
   "execution_count": 29,
   "metadata": {},
   "outputs": [
    {
     "data": {
      "text/plain": [
       "False"
      ]
     },
     "execution_count": 29,
     "metadata": {},
     "output_type": "execute_result"
    }
   ],
   "source": [
    "bool(None)"
   ]
  },
  {
   "cell_type": "code",
   "execution_count": 35,
   "metadata": {},
   "outputs": [],
   "source": [
    "a = \"   \""
   ]
  },
  {
   "cell_type": "code",
   "execution_count": 36,
   "metadata": {},
   "outputs": [
    {
     "data": {
      "text/plain": [
       "True"
      ]
     },
     "execution_count": 36,
     "metadata": {},
     "output_type": "execute_result"
    }
   ],
   "source": [
    "bool(a)"
   ]
  }
 ],
 "metadata": {
  "kernelspec": {
   "display_name": "Python 3",
   "language": "python",
   "name": "python3"
  },
  "language_info": {
   "codemirror_mode": {
    "name": "ipython",
    "version": 3
   },
   "file_extension": ".py",
   "mimetype": "text/x-python",
   "name": "python",
   "nbconvert_exporter": "python",
   "pygments_lexer": "ipython3",
   "version": "3.7.3"
  }
 },
 "nbformat": 4,
 "nbformat_minor": 2
}
